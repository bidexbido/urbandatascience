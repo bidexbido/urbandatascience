{
 "cells": [
  {
   "cell_type": "markdown",
   "metadata": {},
   "source": [
    "Pandas is an open source Python library for data analysis. \n",
    "\n",
    "Python has always been great for prepping and munging data, but it's never been great for analysis - you'd usually end up using R or loading it into a database and using SQL (or worse, Excel). Pandas solves this problem making Python great for data analysis. \n",
    "\n",
    "Another amazing package to deal (in a fast way) with data is Numpy. \n",
    "NumPy is the fundamental package for scientific computing with Python, which can be also used as an efficient multi-dimensional container of generic data.\n",
    "\n",
    "[ How to install Pandas https://pandas.pydata.org/pandas-docs/stable/install.html ]\n",
    "With pip:\n",
    "- pip install numpy\n",
    "- pip install pandas\n",
    "N.B It might be that other packages are required, the use of Anaconda as package manager could help."
   ]
  },
  {
   "cell_type": "code",
   "execution_count": 2,
   "metadata": {
    "collapsed": true
   },
   "outputs": [],
   "source": [
    "# Importing Pandas, Numpy and Matplot Lib ()\n",
    "\n",
    "import pandas as pd\n",
    "import numpy as np\n",
    "import matplotlib.pyplot as plt\n",
    "pd.set_option('max_columns', 50)\n",
    "%matplotlib inline"
   ]
  },
  {
   "cell_type": "markdown",
   "metadata": {},
   "source": [
    "Pandas introduces two new data structures to Python, Series and DataFrame \n",
    "\n",
    "A Series is a one-dimensional object similar to an array, list, or column in a table. It will assign a labeled index to each item in the Series. By default, each item will receive an index label from 0 to N, where N is the length of the Series minus one.\n",
    "\n",
    "A DataFrame is a tablular data structure comprised of rows and columns."
   ]
  },
  {
   "cell_type": "code",
   "execution_count": 107,
   "metadata": {
    "collapsed": false
   },
   "outputs": [],
   "source": [
    "# Load a dataset with pandas, which will load the data in a DataFrame object\n",
    "df = pd.read_csv(\"data/foursquare_Manhattan_100.csv\", index_col=[0], usecols=['index','name','categories','checkin','usercount','boros'])"
   ]
  },
  {
   "cell_type": "code",
   "execution_count": 4,
   "metadata": {
    "collapsed": false
   },
   "outputs": [
    {
     "data": {
      "text/html": [
       "<div>\n",
       "<table border=\"1\" class=\"dataframe\">\n",
       "  <thead>\n",
       "    <tr style=\"text-align: right;\">\n",
       "      <th></th>\n",
       "      <th>name</th>\n",
       "      <th>categories</th>\n",
       "      <th>checkin</th>\n",
       "      <th>usercount</th>\n",
       "      <th>boros</th>\n",
       "    </tr>\n",
       "    <tr>\n",
       "      <th>index</th>\n",
       "      <th></th>\n",
       "      <th></th>\n",
       "      <th></th>\n",
       "      <th></th>\n",
       "      <th></th>\n",
       "    </tr>\n",
       "  </thead>\n",
       "  <tbody>\n",
       "    <tr>\n",
       "      <th>5</th>\n",
       "      <td>Statue of Liberty Gift Shop</td>\n",
       "      <td>Shop &amp; Service:Souvenir Shop</td>\n",
       "      <td>1281.0</td>\n",
       "      <td>1164.0</td>\n",
       "      <td>Manhattan</td>\n",
       "    </tr>\n",
       "    <tr>\n",
       "      <th>2</th>\n",
       "      <td>Liberty Island Food Court</td>\n",
       "      <td>Outdoors &amp; Recreation:Park</td>\n",
       "      <td>225.0</td>\n",
       "      <td>217.0</td>\n",
       "      <td>Manhattan</td>\n",
       "    </tr>\n",
       "    <tr>\n",
       "      <th>3</th>\n",
       "      <td>Statue Of Liberty Trailer Park</td>\n",
       "      <td>Professional &amp; Other Places:Office:Coworking S...</td>\n",
       "      <td>88.0</td>\n",
       "      <td>4.0</td>\n",
       "      <td>Manhattan</td>\n",
       "    </tr>\n",
       "    <tr>\n",
       "      <th>1</th>\n",
       "      <td>National Parks Services</td>\n",
       "      <td>Professional &amp; Other Places:Government Buildin...</td>\n",
       "      <td>136.0</td>\n",
       "      <td>130.0</td>\n",
       "      <td>Manhattan</td>\n",
       "    </tr>\n",
       "    <tr>\n",
       "      <th>6</th>\n",
       "      <td>National Parks Services</td>\n",
       "      <td>Professional &amp; Other Places:Government Buildin...</td>\n",
       "      <td>136.0</td>\n",
       "      <td>130.0</td>\n",
       "      <td>Manhattan</td>\n",
       "    </tr>\n",
       "  </tbody>\n",
       "</table>\n",
       "</div>"
      ],
      "text/plain": [
       "                                 name  \\\n",
       "index                                   \n",
       "5         Statue of Liberty Gift Shop   \n",
       "2           Liberty Island Food Court   \n",
       "3      Statue Of Liberty Trailer Park   \n",
       "1             National Parks Services   \n",
       "6             National Parks Services   \n",
       "\n",
       "                                              categories  checkin  usercount  \\\n",
       "index                                                                          \n",
       "5                           Shop & Service:Souvenir Shop   1281.0     1164.0   \n",
       "2                             Outdoors & Recreation:Park    225.0      217.0   \n",
       "3      Professional & Other Places:Office:Coworking S...     88.0        4.0   \n",
       "1      Professional & Other Places:Government Buildin...    136.0      130.0   \n",
       "6      Professional & Other Places:Government Buildin...    136.0      130.0   \n",
       "\n",
       "           boros  \n",
       "index             \n",
       "5      Manhattan  \n",
       "2      Manhattan  \n",
       "3      Manhattan  \n",
       "1      Manhattan  \n",
       "6      Manhattan  "
      ]
     },
     "execution_count": 4,
     "metadata": {},
     "output_type": "execute_result"
    }
   ],
   "source": [
    "# Let's explore the dataset\n",
    "df.head(5)"
   ]
  },
  {
   "cell_type": "code",
   "execution_count": 5,
   "metadata": {
    "collapsed": false
   },
   "outputs": [
    {
     "data": {
      "text/plain": [
       "name           object\n",
       "categories     object\n",
       "checkin       float64\n",
       "usercount     float64\n",
       "boros          object\n",
       "dtype: object"
      ]
     },
     "execution_count": 5,
     "metadata": {},
     "output_type": "execute_result"
    }
   ],
   "source": [
    "# What kind of data do we have?\n",
    "df.dtypes"
   ]
  },
  {
   "cell_type": "code",
   "execution_count": 6,
   "metadata": {
    "collapsed": false
   },
   "outputs": [
    {
     "data": {
      "text/html": [
       "<div>\n",
       "<table border=\"1\" class=\"dataframe\">\n",
       "  <thead>\n",
       "    <tr style=\"text-align: right;\">\n",
       "      <th></th>\n",
       "      <th>checkin</th>\n",
       "      <th>usercount</th>\n",
       "    </tr>\n",
       "  </thead>\n",
       "  <tbody>\n",
       "    <tr>\n",
       "      <th>count</th>\n",
       "      <td>7.709300e+04</td>\n",
       "      <td>77093.000000</td>\n",
       "    </tr>\n",
       "    <tr>\n",
       "      <th>mean</th>\n",
       "      <td>1.151432e+03</td>\n",
       "      <td>513.767125</td>\n",
       "    </tr>\n",
       "    <tr>\n",
       "      <th>std</th>\n",
       "      <td>7.738937e+03</td>\n",
       "      <td>3082.508528</td>\n",
       "    </tr>\n",
       "    <tr>\n",
       "      <th>min</th>\n",
       "      <td>1.000000e+00</td>\n",
       "      <td>1.000000</td>\n",
       "    </tr>\n",
       "    <tr>\n",
       "      <th>25%</th>\n",
       "      <td>1.000000e+01</td>\n",
       "      <td>4.000000</td>\n",
       "    </tr>\n",
       "    <tr>\n",
       "      <th>50%</th>\n",
       "      <td>5.700000e+01</td>\n",
       "      <td>18.000000</td>\n",
       "    </tr>\n",
       "    <tr>\n",
       "      <th>75%</th>\n",
       "      <td>4.180000e+02</td>\n",
       "      <td>129.000000</td>\n",
       "    </tr>\n",
       "    <tr>\n",
       "      <th>max</th>\n",
       "      <td>1.099038e+06</td>\n",
       "      <td>264182.000000</td>\n",
       "    </tr>\n",
       "  </tbody>\n",
       "</table>\n",
       "</div>"
      ],
      "text/plain": [
       "            checkin      usercount\n",
       "count  7.709300e+04   77093.000000\n",
       "mean   1.151432e+03     513.767125\n",
       "std    7.738937e+03    3082.508528\n",
       "min    1.000000e+00       1.000000\n",
       "25%    1.000000e+01       4.000000\n",
       "50%    5.700000e+01      18.000000\n",
       "75%    4.180000e+02     129.000000\n",
       "max    1.099038e+06  264182.000000"
      ]
     },
     "execution_count": 6,
     "metadata": {},
     "output_type": "execute_result"
    }
   ],
   "source": [
    "# A quick overview on the dataframe\n",
    "df.describe()"
   ]
  },
  {
   "cell_type": "code",
   "execution_count": 68,
   "metadata": {
    "collapsed": false
   },
   "outputs": [
    {
     "data": {
      "text/plain": [
       "77093"
      ]
     },
     "execution_count": 68,
     "metadata": {},
     "output_type": "execute_result"
    }
   ],
   "source": [
    "# Size\n",
    "len(df)"
   ]
  },
  {
   "cell_type": "code",
   "execution_count": 7,
   "metadata": {
    "collapsed": false
   },
   "outputs": [
    {
     "data": {
      "text/plain": [
       "index\n",
       "5     1164.0\n",
       "2      217.0\n",
       "3        4.0\n",
       "1      130.0\n",
       "6      130.0\n",
       "7      594.0\n",
       "24    1109.0\n",
       "15    9456.0\n",
       "8        4.0\n",
       "4       53.0\n",
       "Name: usercount, dtype: float64"
      ]
     },
     "execution_count": 7,
     "metadata": {},
     "output_type": "execute_result"
    }
   ],
   "source": [
    "# A column of a Dataframe can be seen as a Series\n",
    "\n",
    "users = df['usercount']\n",
    "users.head(10)"
   ]
  },
  {
   "cell_type": "code",
   "execution_count": 31,
   "metadata": {
    "collapsed": false
   },
   "outputs": [
    {
     "name": "stdout",
     "output_type": "stream",
     "text": [
      "Sum of the users: 39607849.0\n",
      "Mean of the users: 513.76712542\n",
      "Standard deviation of the users: 3082.50852756\n",
      "Min number of the users: 1.0\n",
      "Max number of the users: 264182.0\n",
      "75% percentile: 129.0\n"
     ]
    }
   ],
   "source": [
    "# We can also calculate some stats on a series\n",
    "\n",
    "print \"Sum of the users: \" + str(users.sum())\n",
    "print \"Mean of the users: \" + str(users.mean())\n",
    "print \"Standard deviation of the users: \" + str(users.std())\n",
    "print \"Min number of the users: \" + str(users.min())\n",
    "print \"Max number of the users: \" + str(users.max())\n",
    "print \"75% percentile: \" + str(np.percentile(users, 75))"
   ]
  },
  {
   "cell_type": "code",
   "execution_count": 9,
   "metadata": {
    "collapsed": false
   },
   "outputs": [
    {
     "data": {
      "text/plain": [
       "index\n",
       "21        67293.0\n",
       "1609      50628.0\n",
       "1396     121050.0\n",
       "2091      52547.0\n",
       "4623     111730.0\n",
       "5905      94915.0\n",
       "7968      50228.0\n",
       "16369     71651.0\n",
       "20004    145375.0\n",
       "20003    189710.0\n",
       "21185     67193.0\n",
       "26439     55835.0\n",
       "25932     84178.0\n",
       "26004     84801.0\n",
       "28170     54834.0\n",
       "28701     54834.0\n",
       "28173     62217.0\n",
       "29376    264182.0\n",
       "32082    119554.0\n",
       "47570     73234.0\n",
       "33342    117893.0\n",
       "34120     53427.0\n",
       "38048     60567.0\n",
       "40412     62360.0\n",
       "39288     69681.0\n",
       "41531    154566.0\n",
       "43545    153587.0\n",
       "44475    195199.0\n",
       "45662    131224.0\n",
       "48381    138253.0\n",
       "1390     145975.0\n",
       "1664     145975.0\n",
       "1943     160702.0\n",
       "4135      53768.0\n",
       "Name: usercount, dtype: float64"
      ]
     },
     "execution_count": 9,
     "metadata": {},
     "output_type": "execute_result"
    }
   ],
   "source": [
    "users[users > 50000]"
   ]
  },
  {
   "cell_type": "code",
   "execution_count": 20,
   "metadata": {
    "collapsed": false
   },
   "outputs": [
    {
     "data": {
      "text/plain": [
       "61004"
      ]
     },
     "execution_count": 20,
     "metadata": {},
     "output_type": "execute_result"
    }
   ],
   "source": [
    "users[users < 200].count()"
   ]
  },
  {
   "cell_type": "code",
   "execution_count": 36,
   "metadata": {
    "collapsed": false
   },
   "outputs": [
    {
     "data": {
      "text/plain": [
       "<matplotlib.axes._subplots.AxesSubplot at 0x11f216f90>"
      ]
     },
     "execution_count": 36,
     "metadata": {},
     "output_type": "execute_result"
    },
    {
     "data": {
      "image/png": "[encoded data removed]",
      "text/plain": [
       "<matplotlib.figure.Figure at 0x11ee28490>"
      ]
     },
     "metadata": {},
     "output_type": "display_data"
    }
   ],
   "source": [
    "users[users < 200].plot(kind='hist',bins=200, xlim=[0,200])"
   ]
  },
  {
   "cell_type": "code",
   "execution_count": 22,
   "metadata": {
    "collapsed": true
   },
   "outputs": [],
   "source": [
    "# What is the law for the checkin?\n",
    "checkin = df['checkin']"
   ]
  },
  {
   "cell_type": "code",
   "execution_count": 32,
   "metadata": {
    "collapsed": false
   },
   "outputs": [
    {
     "name": "stdout",
     "output_type": "stream",
     "text": [
      "Sum of the checkin: 88767313.0\n",
      "Mean of the checkin: 1151.43155669\n",
      "Standard deviation of the checkin: 7738.93664269\n",
      "Min number of the checkin: 1.0\n",
      "Max number of the checkin: 1099038.0\n",
      "75% percentile: 418.0\n"
     ]
    }
   ],
   "source": [
    "print \"Sum of the checkin: \" + str(checkin.sum())\n",
    "print \"Mean of the checkin: \" + str(checkin.mean())\n",
    "print \"Standard deviation of the checkin: \" + str(checkin.std())\n",
    "print \"Min number of the checkin: \" + str(checkin.min())\n",
    "print \"Max number of the checkin: \" + str(checkin.max())\n",
    "print \"75% percentile: \" + str(np.percentile(checkin, 75))"
   ]
  },
  {
   "cell_type": "code",
   "execution_count": 33,
   "metadata": {
    "collapsed": false
   },
   "outputs": [
    {
     "data": {
      "text/plain": [
       "<matplotlib.axes._subplots.AxesSubplot at 0x10b1ab750>"
      ]
     },
     "execution_count": 33,
     "metadata": {},
     "output_type": "execute_result"
    },
    {
     "data": {
      "image/png": "[encoded data removed]",
      "text/plain": [
       "<matplotlib.figure.Figure at 0x109ed4210>"
      ]
     },
     "metadata": {},
     "output_type": "display_data"
    }
   ],
   "source": [
    "users[users < 418].plot(kind='hist',bins=200)"
   ]
  },
  {
   "cell_type": "code",
   "execution_count": 45,
   "metadata": {
    "collapsed": false
   },
   "outputs": [
    {
     "data": {
      "text/plain": [
       "name                         Times Square\n",
       "categories    Outdoors & Recreation:Plaza\n",
       "checkin                            552022\n",
       "usercount                          264182\n",
       "boros                           Manhattan\n",
       "Name: 29376, dtype: object"
      ]
     },
     "execution_count": 45,
     "metadata": {},
     "output_type": "execute_result"
    }
   ],
   "source": [
    "# What are the most visited places??\n",
    "\n",
    "id_max_users = df['usercount'].argmax()\n",
    "df.loc[id_max_users]"
   ]
  },
  {
   "cell_type": "code",
   "execution_count": 46,
   "metadata": {
    "collapsed": false
   },
   "outputs": [
    {
     "data": {
      "text/html": [
       "<div>\n",
       "<table border=\"1\" class=\"dataframe\">\n",
       "  <thead>\n",
       "    <tr style=\"text-align: right;\">\n",
       "      <th></th>\n",
       "      <th>name</th>\n",
       "      <th>categories</th>\n",
       "      <th>checkin</th>\n",
       "      <th>usercount</th>\n",
       "      <th>boros</th>\n",
       "    </tr>\n",
       "    <tr>\n",
       "      <th>index</th>\n",
       "      <th></th>\n",
       "      <th></th>\n",
       "      <th></th>\n",
       "      <th></th>\n",
       "      <th></th>\n",
       "    </tr>\n",
       "  </thead>\n",
       "  <tbody>\n",
       "    <tr>\n",
       "      <th>20003</th>\n",
       "      <td>New York Penn Station</td>\n",
       "      <td>Travel &amp; Transport:Train Station</td>\n",
       "      <td>1099038.0</td>\n",
       "      <td>189710.0</td>\n",
       "      <td>Manhattan</td>\n",
       "    </tr>\n",
       "    <tr>\n",
       "      <th>20003</th>\n",
       "      <td>Tom's Dog Run</td>\n",
       "      <td>Outdoors &amp; Recreation:Dog Run</td>\n",
       "      <td>2641.0</td>\n",
       "      <td>1492.0</td>\n",
       "      <td>Manhattan</td>\n",
       "    </tr>\n",
       "  </tbody>\n",
       "</table>\n",
       "</div>"
      ],
      "text/plain": [
       "                        name                        categories    checkin  \\\n",
       "index                                                                       \n",
       "20003  New York Penn Station  Travel & Transport:Train Station  1099038.0   \n",
       "20003          Tom's Dog Run     Outdoors & Recreation:Dog Run     2641.0   \n",
       "\n",
       "       usercount      boros  \n",
       "index                        \n",
       "20003   189710.0  Manhattan  \n",
       "20003     1492.0  Manhattan  "
      ]
     },
     "execution_count": 46,
     "metadata": {},
     "output_type": "execute_result"
    }
   ],
   "source": [
    "id_max_checkin = df['checkin'].argmax()\n",
    "df.loc[id_max_checkin]"
   ]
  },
  {
   "cell_type": "code",
   "execution_count": 51,
   "metadata": {
    "collapsed": false
   },
   "outputs": [
    {
     "data": {
      "text/html": [
       "<div>\n",
       "<table border=\"1\" class=\"dataframe\">\n",
       "  <thead>\n",
       "    <tr style=\"text-align: right;\">\n",
       "      <th></th>\n",
       "      <th>checkin</th>\n",
       "      <th>usercount</th>\n",
       "    </tr>\n",
       "  </thead>\n",
       "  <tbody>\n",
       "    <tr>\n",
       "      <th>checkin</th>\n",
       "      <td>1.000000</td>\n",
       "      <td>0.873896</td>\n",
       "    </tr>\n",
       "    <tr>\n",
       "      <th>usercount</th>\n",
       "      <td>0.873896</td>\n",
       "      <td>1.000000</td>\n",
       "    </tr>\n",
       "  </tbody>\n",
       "</table>\n",
       "</div>"
      ],
      "text/plain": [
       "            checkin  usercount\n",
       "checkin    1.000000   0.873896\n",
       "usercount  0.873896   1.000000"
      ]
     },
     "execution_count": 51,
     "metadata": {},
     "output_type": "execute_result"
    }
   ],
   "source": [
    "df.corr(method='pearson')"
   ]
  },
  {
   "cell_type": "code",
   "execution_count": 114,
   "metadata": {
    "collapsed": false
   },
   "outputs": [
    {
     "data": {
      "image/png": "[encoded data removed]",
      "text/plain": [
       "<matplotlib.figure.Figure at 0x111cbf6d0>"
      ]
     },
     "metadata": {},
     "output_type": "display_data"
    }
   ],
   "source": [
    "import seaborn as sns\n",
    "sns.set(style=\"ticks\")\n",
    "\n",
    "df_small = df.head(10000)\n",
    "\n",
    "# Show the results of a linear regression within each dataset\n",
    "ax = sns.lmplot(x=\"usercount\", y=\"checkin\", data=df_small,palette=\"muted\", size=6,\n",
    "           scatter_kws={\"s\": 50, \"alpha\": 1})\n",
    "\n",
    "#ax.set(xscale=\"log\", yscale=\"log\",xlim=[0.1,100000])"
   ]
  },
  {
   "cell_type": "code",
   "execution_count": 117,
   "metadata": {
    "collapsed": false
   },
   "outputs": [
    {
     "data": {
      "text/plain": [
       "<seaborn.axisgrid.FacetGrid at 0x110749810>"
      ]
     },
     "execution_count": 117,
     "metadata": {},
     "output_type": "execute_result"
    },
    {
     "data": {
      "image/png": "[encoded data removed]",
      "text/plain": [
       "<matplotlib.figure.Figure at 0x11075c1d0>"
      ]
     },
     "metadata": {},
     "output_type": "display_data"
    }
   ],
   "source": [
    "df_small.loc[:,'difference'] = (df_small['checkin']-df_small['usercount'])+1\n",
    "\n",
    "ax = sns.lmplot(x=\"usercount\", y=\"difference\", data=df_small,palette=\"muted\", size=6,\n",
    "           scatter_kws={\"s\": 50, \"alpha\": 1})\n",
    "\n",
    "ax.set(xscale=\"log\", yscale=\"log\",xlim=[0.1,100000])"
   ]
  },
  {
   "cell_type": "code",
   "execution_count": 119,
   "metadata": {
    "collapsed": false
   },
   "outputs": [],
   "source": [
    "def split(df):\n",
    "    return df.split(\":\")[0]\n",
    "    \n",
    "df.loc[:,'category1'] = df['categories'].head(10).apply(split)"
   ]
  },
  {
   "cell_type": "code",
   "execution_count": 120,
   "metadata": {
    "collapsed": false
   },
   "outputs": [
    {
     "data": {
      "text/html": [
       "<div>\n",
       "<table border=\"1\" class=\"dataframe\">\n",
       "  <thead>\n",
       "    <tr style=\"text-align: right;\">\n",
       "      <th></th>\n",
       "      <th>name</th>\n",
       "      <th>categories</th>\n",
       "      <th>checkin</th>\n",
       "      <th>usercount</th>\n",
       "      <th>boros</th>\n",
       "      <th>category1</th>\n",
       "    </tr>\n",
       "    <tr>\n",
       "      <th>index</th>\n",
       "      <th></th>\n",
       "      <th></th>\n",
       "      <th></th>\n",
       "      <th></th>\n",
       "      <th></th>\n",
       "      <th></th>\n",
       "    </tr>\n",
       "  </thead>\n",
       "  <tbody>\n",
       "    <tr>\n",
       "      <th>5</th>\n",
       "      <td>Statue of Liberty Gift Shop</td>\n",
       "      <td>Shop &amp; Service:Souvenir Shop</td>\n",
       "      <td>1281.0</td>\n",
       "      <td>1164.0</td>\n",
       "      <td>Manhattan</td>\n",
       "      <td>Shop &amp; Service</td>\n",
       "    </tr>\n",
       "    <tr>\n",
       "      <th>2</th>\n",
       "      <td>Liberty Island Food Court</td>\n",
       "      <td>Outdoors &amp; Recreation:Park</td>\n",
       "      <td>225.0</td>\n",
       "      <td>217.0</td>\n",
       "      <td>Manhattan</td>\n",
       "      <td>Outdoors &amp; Recreation</td>\n",
       "    </tr>\n",
       "    <tr>\n",
       "      <th>3</th>\n",
       "      <td>Statue Of Liberty Trailer Park</td>\n",
       "      <td>Professional &amp; Other Places:Office:Coworking S...</td>\n",
       "      <td>88.0</td>\n",
       "      <td>4.0</td>\n",
       "      <td>Manhattan</td>\n",
       "      <td>Professional &amp; Other Places</td>\n",
       "    </tr>\n",
       "    <tr>\n",
       "      <th>1</th>\n",
       "      <td>National Parks Services</td>\n",
       "      <td>Professional &amp; Other Places:Government Buildin...</td>\n",
       "      <td>136.0</td>\n",
       "      <td>130.0</td>\n",
       "      <td>Manhattan</td>\n",
       "      <td>Professional &amp; Other Places</td>\n",
       "    </tr>\n",
       "    <tr>\n",
       "      <th>6</th>\n",
       "      <td>National Parks Services</td>\n",
       "      <td>Professional &amp; Other Places:Government Buildin...</td>\n",
       "      <td>136.0</td>\n",
       "      <td>130.0</td>\n",
       "      <td>Manhattan</td>\n",
       "      <td>Professional &amp; Other Places</td>\n",
       "    </tr>\n",
       "    <tr>\n",
       "      <th>7</th>\n",
       "      <td>Statue of Liberty Crown Cafe</td>\n",
       "      <td>Food:American Restaurant</td>\n",
       "      <td>702.0</td>\n",
       "      <td>594.0</td>\n",
       "      <td>Manhattan</td>\n",
       "      <td>Food</td>\n",
       "    </tr>\n",
       "    <tr>\n",
       "      <th>24</th>\n",
       "      <td>Statue Cruises Liberty Island Terminal</td>\n",
       "      <td>Travel &amp; Transport:Pier</td>\n",
       "      <td>1283.0</td>\n",
       "      <td>1109.0</td>\n",
       "      <td>Manhattan</td>\n",
       "      <td>Travel &amp; Transport</td>\n",
       "    </tr>\n",
       "    <tr>\n",
       "      <th>15</th>\n",
       "      <td>Liberty Island</td>\n",
       "      <td>Outdoors &amp; Recreation:Island</td>\n",
       "      <td>10108.0</td>\n",
       "      <td>9456.0</td>\n",
       "      <td>Manhattan</td>\n",
       "      <td>Outdoors &amp; Recreation</td>\n",
       "    </tr>\n",
       "    <tr>\n",
       "      <th>8</th>\n",
       "      <td>Evelyn Hill Inc</td>\n",
       "      <td>Shop &amp; Service:Gift Shop</td>\n",
       "      <td>4.0</td>\n",
       "      <td>4.0</td>\n",
       "      <td>Manhattan</td>\n",
       "      <td>Shop &amp; Service</td>\n",
       "    </tr>\n",
       "    <tr>\n",
       "      <th>4</th>\n",
       "      <td>Statue of Liberty/ Ellis Island Division of Sa...</td>\n",
       "      <td>Professional &amp; Other Places:Government Buildin...</td>\n",
       "      <td>63.0</td>\n",
       "      <td>53.0</td>\n",
       "      <td>Manhattan</td>\n",
       "      <td>Professional &amp; Other Places</td>\n",
       "    </tr>\n",
       "  </tbody>\n",
       "</table>\n",
       "</div>"
      ],
      "text/plain": [
       "                                                    name  \\\n",
       "index                                                      \n",
       "5                            Statue of Liberty Gift Shop   \n",
       "2                              Liberty Island Food Court   \n",
       "3                         Statue Of Liberty Trailer Park   \n",
       "1                                National Parks Services   \n",
       "6                                National Parks Services   \n",
       "7                           Statue of Liberty Crown Cafe   \n",
       "24                Statue Cruises Liberty Island Terminal   \n",
       "15                                        Liberty Island   \n",
       "8                                        Evelyn Hill Inc   \n",
       "4      Statue of Liberty/ Ellis Island Division of Sa...   \n",
       "\n",
       "                                              categories  checkin  usercount  \\\n",
       "index                                                                          \n",
       "5                           Shop & Service:Souvenir Shop   1281.0     1164.0   \n",
       "2                             Outdoors & Recreation:Park    225.0      217.0   \n",
       "3      Professional & Other Places:Office:Coworking S...     88.0        4.0   \n",
       "1      Professional & Other Places:Government Buildin...    136.0      130.0   \n",
       "6      Professional & Other Places:Government Buildin...    136.0      130.0   \n",
       "7                               Food:American Restaurant    702.0      594.0   \n",
       "24                               Travel & Transport:Pier   1283.0     1109.0   \n",
       "15                          Outdoors & Recreation:Island  10108.0     9456.0   \n",
       "8                               Shop & Service:Gift Shop      4.0        4.0   \n",
       "4      Professional & Other Places:Government Buildin...     63.0       53.0   \n",
       "\n",
       "           boros                    category1  \n",
       "index                                          \n",
       "5      Manhattan               Shop & Service  \n",
       "2      Manhattan        Outdoors & Recreation  \n",
       "3      Manhattan  Professional & Other Places  \n",
       "1      Manhattan  Professional & Other Places  \n",
       "6      Manhattan  Professional & Other Places  \n",
       "7      Manhattan                         Food  \n",
       "24     Manhattan           Travel & Transport  \n",
       "15     Manhattan        Outdoors & Recreation  \n",
       "8      Manhattan               Shop & Service  \n",
       "4      Manhattan  Professional & Other Places  "
      ]
     },
     "execution_count": 120,
     "metadata": {},
     "output_type": "execute_result"
    }
   ],
   "source": [
    "df.head(10)"
   ]
  },
  {
   "cell_type": "code",
   "execution_count": 121,
   "metadata": {
    "collapsed": false
   },
   "outputs": [
    {
     "data": {
      "text/plain": [
       "category1\n",
       "Food                            3\n",
       "Outdoors & Recreation           6\n",
       "Professional & Other Places    12\n",
       "Shop & Service                  6\n",
       "Travel & Transport              3\n",
       "dtype: int64"
      ]
     },
     "execution_count": 121,
     "metadata": {},
     "output_type": "execute_result"
    }
   ],
   "source": [
    "df.groupby('category1').size()"
   ]
  },
  {
   "cell_type": "code",
   "execution_count": 123,
   "metadata": {
    "collapsed": false
   },
   "outputs": [
    {
     "data": {
      "text/plain": [
       "<matplotlib.axes._subplots.AxesSubplot at 0x113bb6090>"
      ]
     },
     "execution_count": 123,
     "metadata": {},
     "output_type": "execute_result"
    },
    {
     "data": {
      "image/png": "[encoded data removed]",
      "text/plain": [
       "<matplotlib.figure.Figure at 0x10ef8fe50>"
      ]
     },
     "metadata": {},
     "output_type": "display_data"
    }
   ],
   "source": [
    "df.groupby('category1').size().plot(kind='bar',rot=45)"
   ]
  },
  {
   "cell_type": "code",
   "execution_count": null,
   "metadata": {
    "collapsed": true
   },
   "outputs": [],
   "source": []
  }
 ],
 "metadata": {
  "kernelspec": {
   "display_name": "Python 2",
   "language": "python",
   "name": "python2"
  },
  "language_info": {
   "codemirror_mode": {
    "name": "ipython",
    "version": 2
   },
   "file_extension": ".py",
   "mimetype": "text/x-python",
   "name": "python",
   "nbconvert_exporter": "python",
   "pygments_lexer": "ipython2",
   "version": "2.7.12"
  }
 },
 "nbformat": 4,
 "nbformat_minor": 1
}
