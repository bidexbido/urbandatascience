{
 "cells": [
  {
   "cell_type": "code",
   "execution_count": 21,
   "metadata": {
    "collapsed": true
   },
   "outputs": [],
   "source": [
    "import pandas as pd\n",
    "from sklearn.svm import LinearSVR\n",
    "from sklearn.preprocessing import StandardScaler\n",
    "import xgboost\n",
    "import sklearn.metrics as metrics\n",
    "from sklearn.linear_model import LogisticRegression"
   ]
  },
  {
   "cell_type": "code",
   "execution_count": 22,
   "metadata": {
    "collapsed": true
   },
   "outputs": [],
   "source": [
    "df_train = pd.read_csv(\"data/train/100.csv\",sep=\"\\t\")\n",
    "df_test = pd.read_csv(\"data/test/100.csv\",sep=\"\\t\")"
   ]
  },
  {
   "cell_type": "code",
   "execution_count": 23,
   "metadata": {
    "collapsed": false
   },
   "outputs": [
    {
     "data": {
      "text/html": [
       "<div>\n",
       "<table border=\"1\" class=\"dataframe\">\n",
       "  <thead>\n",
       "    <tr style=\"text-align: right;\">\n",
       "      <th></th>\n",
       "      <th>cellID</th>\n",
       "      <th>f_l1_College &amp; University</th>\n",
       "      <th>f_l1_Food</th>\n",
       "      <th>f_l1_Residence</th>\n",
       "      <th>f_l1_Travel &amp; Transport</th>\n",
       "      <th>f_l1_Outdoors &amp; Recreation</th>\n",
       "      <th>f_l1_Arts &amp; Entertainment</th>\n",
       "      <th>f_l1_Shop &amp; Service</th>\n",
       "      <th>f_l1_Nightlife Spot</th>\n",
       "      <th>f_l1_Professional &amp; Other Places</th>\n",
       "      <th>f_l1_Event</th>\n",
       "      <th>t_predominant</th>\n",
       "    </tr>\n",
       "  </thead>\n",
       "  <tbody>\n",
       "    <tr>\n",
       "      <th>0</th>\n",
       "      <td>2376</td>\n",
       "      <td>0</td>\n",
       "      <td>4</td>\n",
       "      <td>0</td>\n",
       "      <td>0</td>\n",
       "      <td>0</td>\n",
       "      <td>1</td>\n",
       "      <td>4</td>\n",
       "      <td>0</td>\n",
       "      <td>16</td>\n",
       "      <td>0</td>\n",
       "      <td>Commercial</td>\n",
       "    </tr>\n",
       "    <tr>\n",
       "      <th>1</th>\n",
       "      <td>6266</td>\n",
       "      <td>0</td>\n",
       "      <td>1</td>\n",
       "      <td>0</td>\n",
       "      <td>0</td>\n",
       "      <td>3</td>\n",
       "      <td>0</td>\n",
       "      <td>0</td>\n",
       "      <td>0</td>\n",
       "      <td>0</td>\n",
       "      <td>0</td>\n",
       "      <td>OpenSpace</td>\n",
       "    </tr>\n",
       "    <tr>\n",
       "      <th>2</th>\n",
       "      <td>4023</td>\n",
       "      <td>1</td>\n",
       "      <td>0</td>\n",
       "      <td>2</td>\n",
       "      <td>6</td>\n",
       "      <td>0</td>\n",
       "      <td>0</td>\n",
       "      <td>2</td>\n",
       "      <td>0</td>\n",
       "      <td>3</td>\n",
       "      <td>0</td>\n",
       "      <td>Transportation</td>\n",
       "    </tr>\n",
       "    <tr>\n",
       "      <th>3</th>\n",
       "      <td>5242</td>\n",
       "      <td>0</td>\n",
       "      <td>0</td>\n",
       "      <td>0</td>\n",
       "      <td>0</td>\n",
       "      <td>0</td>\n",
       "      <td>0</td>\n",
       "      <td>5</td>\n",
       "      <td>0</td>\n",
       "      <td>1</td>\n",
       "      <td>0</td>\n",
       "      <td>Residential</td>\n",
       "    </tr>\n",
       "    <tr>\n",
       "      <th>4</th>\n",
       "      <td>89</td>\n",
       "      <td>0</td>\n",
       "      <td>0</td>\n",
       "      <td>0</td>\n",
       "      <td>0</td>\n",
       "      <td>1</td>\n",
       "      <td>0</td>\n",
       "      <td>0</td>\n",
       "      <td>0</td>\n",
       "      <td>0</td>\n",
       "      <td>0</td>\n",
       "      <td>Commercial</td>\n",
       "    </tr>\n",
       "    <tr>\n",
       "      <th>5</th>\n",
       "      <td>3468</td>\n",
       "      <td>0</td>\n",
       "      <td>3</td>\n",
       "      <td>0</td>\n",
       "      <td>0</td>\n",
       "      <td>1</td>\n",
       "      <td>2</td>\n",
       "      <td>2</td>\n",
       "      <td>0</td>\n",
       "      <td>3</td>\n",
       "      <td>0</td>\n",
       "      <td>OpenSpace</td>\n",
       "    </tr>\n",
       "    <tr>\n",
       "      <th>6</th>\n",
       "      <td>1197</td>\n",
       "      <td>0</td>\n",
       "      <td>6</td>\n",
       "      <td>6</td>\n",
       "      <td>1</td>\n",
       "      <td>0</td>\n",
       "      <td>3</td>\n",
       "      <td>0</td>\n",
       "      <td>0</td>\n",
       "      <td>3</td>\n",
       "      <td>0</td>\n",
       "      <td>Residential</td>\n",
       "    </tr>\n",
       "    <tr>\n",
       "      <th>7</th>\n",
       "      <td>2463</td>\n",
       "      <td>3</td>\n",
       "      <td>5</td>\n",
       "      <td>3</td>\n",
       "      <td>2</td>\n",
       "      <td>3</td>\n",
       "      <td>0</td>\n",
       "      <td>5</td>\n",
       "      <td>0</td>\n",
       "      <td>7</td>\n",
       "      <td>0</td>\n",
       "      <td>Mixed</td>\n",
       "    </tr>\n",
       "    <tr>\n",
       "      <th>8</th>\n",
       "      <td>403</td>\n",
       "      <td>0</td>\n",
       "      <td>11</td>\n",
       "      <td>0</td>\n",
       "      <td>0</td>\n",
       "      <td>0</td>\n",
       "      <td>1</td>\n",
       "      <td>1</td>\n",
       "      <td>2</td>\n",
       "      <td>7</td>\n",
       "      <td>0</td>\n",
       "      <td>Commercial</td>\n",
       "    </tr>\n",
       "    <tr>\n",
       "      <th>9</th>\n",
       "      <td>4648</td>\n",
       "      <td>0</td>\n",
       "      <td>0</td>\n",
       "      <td>1</td>\n",
       "      <td>0</td>\n",
       "      <td>0</td>\n",
       "      <td>0</td>\n",
       "      <td>0</td>\n",
       "      <td>0</td>\n",
       "      <td>0</td>\n",
       "      <td>0</td>\n",
       "      <td>OpenSpace</td>\n",
       "    </tr>\n",
       "  </tbody>\n",
       "</table>\n",
       "</div>"
      ],
      "text/plain": [
       "   cellID  f_l1_College & University  f_l1_Food  f_l1_Residence  \\\n",
       "0    2376                          0          4               0   \n",
       "1    6266                          0          1               0   \n",
       "2    4023                          1          0               2   \n",
       "3    5242                          0          0               0   \n",
       "4      89                          0          0               0   \n",
       "5    3468                          0          3               0   \n",
       "6    1197                          0          6               6   \n",
       "7    2463                          3          5               3   \n",
       "8     403                          0         11               0   \n",
       "9    4648                          0          0               1   \n",
       "\n",
       "   f_l1_Travel & Transport  f_l1_Outdoors & Recreation  \\\n",
       "0                        0                           0   \n",
       "1                        0                           3   \n",
       "2                        6                           0   \n",
       "3                        0                           0   \n",
       "4                        0                           1   \n",
       "5                        0                           1   \n",
       "6                        1                           0   \n",
       "7                        2                           3   \n",
       "8                        0                           0   \n",
       "9                        0                           0   \n",
       "\n",
       "   f_l1_Arts & Entertainment  f_l1_Shop & Service  f_l1_Nightlife Spot  \\\n",
       "0                          1                    4                    0   \n",
       "1                          0                    0                    0   \n",
       "2                          0                    2                    0   \n",
       "3                          0                    5                    0   \n",
       "4                          0                    0                    0   \n",
       "5                          2                    2                    0   \n",
       "6                          3                    0                    0   \n",
       "7                          0                    5                    0   \n",
       "8                          1                    1                    2   \n",
       "9                          0                    0                    0   \n",
       "\n",
       "   f_l1_Professional & Other Places  f_l1_Event   t_predominant  \n",
       "0                                16           0      Commercial  \n",
       "1                                 0           0       OpenSpace  \n",
       "2                                 3           0  Transportation  \n",
       "3                                 1           0     Residential  \n",
       "4                                 0           0      Commercial  \n",
       "5                                 3           0       OpenSpace  \n",
       "6                                 3           0     Residential  \n",
       "7                                 7           0           Mixed  \n",
       "8                                 7           0      Commercial  \n",
       "9                                 0           0       OpenSpace  "
      ]
     },
     "execution_count": 23,
     "metadata": {},
     "output_type": "execute_result"
    }
   ],
   "source": [
    "df_train.head(10)"
   ]
  },
  {
   "cell_type": "code",
   "execution_count": 24,
   "metadata": {
    "collapsed": false
   },
   "outputs": [],
   "source": [
    "df_X_train = df_train[[x for x in df_train.columns if x.startswith(\"f_\")]]\n",
    "df_y_train = df_train[[x for x in df_train.columns if x.startswith(\"t_\")]]\n",
    "\n",
    "df_X_test = df_train[[x for x in df_test.columns if x.startswith(\"f_\")]]\n",
    "df_y_test = df_train[[x for x in df_test.columns if x.startswith(\"t_\")]]"
   ]
  },
  {
   "cell_type": "code",
   "execution_count": 25,
   "metadata": {
    "collapsed": false
   },
   "outputs": [],
   "source": [
    "# scaler\n",
    "X_scaler = StandardScaler()\n",
    "\n",
    "# scale train feature\n",
    "df_X_train_scaled = X_scaler.fit_transform(df_X_train)\n",
    "df_X_train_scaled = pd.DataFrame(df_X_train_scaled, index=df_X_train.index, columns=df_X_train.columns)\n",
    "\n",
    "# scale test feature\n",
    "df_X_test_scaled = X_scaler.transform(df_X_test)\n",
    "df_X_test_scaled = pd.DataFrame(df_X_test_scaled, index=df_X_test.index, columns=df_X_test.columns)\n",
    "\n",
    "# merge label and feature\n",
    "df_train_scaled = df_X_train_scaled.merge(df_y_train,left_index=True, right_index=True)\n",
    "df_test_scaled = df_X_test_scaled.merge(df_y_test,left_index=True, right_index=True)"
   ]
  },
  {
   "cell_type": "code",
   "execution_count": 26,
   "metadata": {
    "collapsed": false
   },
   "outputs": [
    {
     "data": {
      "text/html": [
       "<div>\n",
       "<table border=\"1\" class=\"dataframe\">\n",
       "  <thead>\n",
       "    <tr style=\"text-align: right;\">\n",
       "      <th></th>\n",
       "      <th>f_l1_College &amp; University</th>\n",
       "      <th>f_l1_Food</th>\n",
       "      <th>f_l1_Residence</th>\n",
       "      <th>f_l1_Travel &amp; Transport</th>\n",
       "      <th>f_l1_Outdoors &amp; Recreation</th>\n",
       "      <th>f_l1_Arts &amp; Entertainment</th>\n",
       "      <th>f_l1_Shop &amp; Service</th>\n",
       "      <th>f_l1_Nightlife Spot</th>\n",
       "      <th>f_l1_Professional &amp; Other Places</th>\n",
       "      <th>f_l1_Event</th>\n",
       "    </tr>\n",
       "  </thead>\n",
       "  <tbody>\n",
       "    <tr>\n",
       "      <th>0</th>\n",
       "      <td>-0.241317</td>\n",
       "      <td>0.387489</td>\n",
       "      <td>-0.727389</td>\n",
       "      <td>-0.676537</td>\n",
       "      <td>-0.764213</td>\n",
       "      <td>0.164485</td>\n",
       "      <td>0.310932</td>\n",
       "      <td>-0.508204</td>\n",
       "      <td>3.140005</td>\n",
       "      <td>-0.124595</td>\n",
       "    </tr>\n",
       "    <tr>\n",
       "      <th>1</th>\n",
       "      <td>-0.241317</td>\n",
       "      <td>-0.430013</td>\n",
       "      <td>-0.727389</td>\n",
       "      <td>-0.676537</td>\n",
       "      <td>1.601896</td>\n",
       "      <td>-0.399978</td>\n",
       "      <td>-0.721991</td>\n",
       "      <td>-0.508204</td>\n",
       "      <td>-0.807130</td>\n",
       "      <td>-0.124595</td>\n",
       "    </tr>\n",
       "    <tr>\n",
       "      <th>2</th>\n",
       "      <td>0.378507</td>\n",
       "      <td>-0.702513</td>\n",
       "      <td>0.400513</td>\n",
       "      <td>2.612740</td>\n",
       "      <td>-0.764213</td>\n",
       "      <td>-0.399978</td>\n",
       "      <td>-0.205529</td>\n",
       "      <td>-0.508204</td>\n",
       "      <td>-0.067043</td>\n",
       "      <td>-0.124595</td>\n",
       "    </tr>\n",
       "    <tr>\n",
       "      <th>3</th>\n",
       "      <td>-0.241317</td>\n",
       "      <td>-0.702513</td>\n",
       "      <td>-0.727389</td>\n",
       "      <td>-0.676537</td>\n",
       "      <td>-0.764213</td>\n",
       "      <td>-0.399978</td>\n",
       "      <td>0.569163</td>\n",
       "      <td>-0.508204</td>\n",
       "      <td>-0.560435</td>\n",
       "      <td>-0.124595</td>\n",
       "    </tr>\n",
       "    <tr>\n",
       "      <th>4</th>\n",
       "      <td>-0.241317</td>\n",
       "      <td>-0.702513</td>\n",
       "      <td>-0.727389</td>\n",
       "      <td>-0.676537</td>\n",
       "      <td>0.024490</td>\n",
       "      <td>-0.399978</td>\n",
       "      <td>-0.721991</td>\n",
       "      <td>-0.508204</td>\n",
       "      <td>-0.807130</td>\n",
       "      <td>-0.124595</td>\n",
       "    </tr>\n",
       "  </tbody>\n",
       "</table>\n",
       "</div>"
      ],
      "text/plain": [
       "   f_l1_College & University  f_l1_Food  f_l1_Residence  \\\n",
       "0                  -0.241317   0.387489       -0.727389   \n",
       "1                  -0.241317  -0.430013       -0.727389   \n",
       "2                   0.378507  -0.702513        0.400513   \n",
       "3                  -0.241317  -0.702513       -0.727389   \n",
       "4                  -0.241317  -0.702513       -0.727389   \n",
       "\n",
       "   f_l1_Travel & Transport  f_l1_Outdoors & Recreation  \\\n",
       "0                -0.676537                   -0.764213   \n",
       "1                -0.676537                    1.601896   \n",
       "2                 2.612740                   -0.764213   \n",
       "3                -0.676537                   -0.764213   \n",
       "4                -0.676537                    0.024490   \n",
       "\n",
       "   f_l1_Arts & Entertainment  f_l1_Shop & Service  f_l1_Nightlife Spot  \\\n",
       "0                   0.164485             0.310932            -0.508204   \n",
       "1                  -0.399978            -0.721991            -0.508204   \n",
       "2                  -0.399978            -0.205529            -0.508204   \n",
       "3                  -0.399978             0.569163            -0.508204   \n",
       "4                  -0.399978            -0.721991            -0.508204   \n",
       "\n",
       "   f_l1_Professional & Other Places  f_l1_Event  \n",
       "0                          3.140005   -0.124595  \n",
       "1                         -0.807130   -0.124595  \n",
       "2                         -0.067043   -0.124595  \n",
       "3                         -0.560435   -0.124595  \n",
       "4                         -0.807130   -0.124595  "
      ]
     },
     "execution_count": 26,
     "metadata": {},
     "output_type": "execute_result"
    }
   ],
   "source": [
    "df_X_train_scaled.head()"
   ]
  },
  {
   "cell_type": "code",
   "execution_count": 27,
   "metadata": {
    "collapsed": false
   },
   "outputs": [
    {
     "data": {
      "text/html": [
       "<div>\n",
       "<table border=\"1\" class=\"dataframe\">\n",
       "  <thead>\n",
       "    <tr style=\"text-align: right;\">\n",
       "      <th></th>\n",
       "      <th>t_predominant</th>\n",
       "    </tr>\n",
       "  </thead>\n",
       "  <tbody>\n",
       "    <tr>\n",
       "      <th>0</th>\n",
       "      <td>Commercial</td>\n",
       "    </tr>\n",
       "    <tr>\n",
       "      <th>1</th>\n",
       "      <td>OpenSpace</td>\n",
       "    </tr>\n",
       "    <tr>\n",
       "      <th>2</th>\n",
       "      <td>Transportation</td>\n",
       "    </tr>\n",
       "    <tr>\n",
       "      <th>3</th>\n",
       "      <td>Residential</td>\n",
       "    </tr>\n",
       "    <tr>\n",
       "      <th>4</th>\n",
       "      <td>Commercial</td>\n",
       "    </tr>\n",
       "    <tr>\n",
       "      <th>5</th>\n",
       "      <td>OpenSpace</td>\n",
       "    </tr>\n",
       "    <tr>\n",
       "      <th>6</th>\n",
       "      <td>Residential</td>\n",
       "    </tr>\n",
       "    <tr>\n",
       "      <th>7</th>\n",
       "      <td>Mixed</td>\n",
       "    </tr>\n",
       "    <tr>\n",
       "      <th>8</th>\n",
       "      <td>Commercial</td>\n",
       "    </tr>\n",
       "    <tr>\n",
       "      <th>9</th>\n",
       "      <td>OpenSpace</td>\n",
       "    </tr>\n",
       "  </tbody>\n",
       "</table>\n",
       "</div>"
      ],
      "text/plain": [
       "    t_predominant\n",
       "0      Commercial\n",
       "1       OpenSpace\n",
       "2  Transportation\n",
       "3     Residential\n",
       "4      Commercial\n",
       "5       OpenSpace\n",
       "6     Residential\n",
       "7           Mixed\n",
       "8      Commercial\n",
       "9       OpenSpace"
      ]
     },
     "execution_count": 27,
     "metadata": {},
     "output_type": "execute_result"
    }
   ],
   "source": [
    "df_y_train.head(10)"
   ]
  },
  {
   "cell_type": "code",
   "execution_count": 30,
   "metadata": {
    "collapsed": false
   },
   "outputs": [
    {
     "name": "stdout",
     "output_type": "stream",
     "text": [
      "****** BASELINE ******\n",
      "{'recall': 0.053078556263269634, 'model': 'baseline', 'f1-score': 0.080515297906602251, 'precision': 0.16666666666666666, 'accuracy': 31.8}\n",
      "**********************\n"
     ]
    }
   ],
   "source": [
    "df = {}\n",
    "dfs = []\n",
    "\n",
    "print \"****** BASELINE ******\"\n",
    "df['model'] = 'baseline'\n",
    "df_train['t_predominant'].value_counts().max()\n",
    "y_pred = [df_train['t_predominant'].value_counts().idxmax()] * len(df_y_test)\n",
    "df['f1-score'] = metrics.f1_score(df_y_test.values, y_pred,average='macro')\n",
    "df['accuracy'] =  round(metrics.accuracy_score(df_y_test.values, y_pred),3) * 100\n",
    "df['precision'] = metrics.recall_score(df_y_test.values, y_pred,average='macro')\n",
    "df['recall'] = metrics.precision_score(df_y_test.values, y_pred,average='macro')\n",
    "dfs.append(df)\n",
    "print df\n",
    "\n",
    "print \"**********************\""
   ]
  },
  {
   "cell_type": "code",
   "execution_count": 31,
   "metadata": {
    "collapsed": false
   },
   "outputs": [
    {
     "name": "stdout",
     "output_type": "stream",
     "text": [
      "****** XGBOOST ******\n"
     ]
    },
    {
     "name": "stderr",
     "output_type": "stream",
     "text": [
      "/Users/giannibarlacchi/miniconda2/lib/python2.7/site-packages/sklearn/preprocessing/label.py:108: DataConversionWarning: A column-vector y was passed when a 1d array was expected. Please change the shape of y to (n_samples, ), for example using ravel().\n",
      "  y = column_or_1d(y, warn=True)\n",
      "/Users/giannibarlacchi/miniconda2/lib/python2.7/site-packages/sklearn/preprocessing/label.py:143: DataConversionWarning: A column-vector y was passed when a 1d array was expected. Please change the shape of y to (n_samples, ), for example using ravel().\n",
      "  y = column_or_1d(y, warn=True)\n"
     ]
    },
    {
     "name": "stdout",
     "output_type": "stream",
     "text": [
      "{'recall': 0.59846296922935138, 'model': 'xgBoost', 'precision': 0.51316705173141031, 'accuracy': 59.199999999999996}\n",
      "**********************\n"
     ]
    }
   ],
   "source": [
    "# xgboost Classifier\n",
    "print \"****** XGBOOST ******\"\n",
    "df = {}\n",
    "clf = xgboost.XGBClassifier()\n",
    "clf.fit(df_X_train.as_matrix(), df_y_train.values)\n",
    "y_pred = clf.predict(df_X_test.as_matrix())\n",
    "df['model'] = 'xgBoost'\n",
    "df['accuracy'] = round(metrics.accuracy_score(df_y_test.values, y_pred),3) * 100\n",
    "df['precision'] = metrics.recall_score(df_y_test.values, y_pred,average='macro')\n",
    "df['recall'] = metrics.precision_score(df_y_test.values, y_pred,average='macro')\n",
    "dfs.append(df)\n",
    "\n",
    "print df\n",
    "print \"**********************\""
   ]
  },
  {
   "cell_type": "code",
   "execution_count": 32,
   "metadata": {
    "collapsed": false
   },
   "outputs": [
    {
     "name": "stdout",
     "output_type": "stream",
     "text": [
      "****** Logistic Regression ******\n",
      "{'recall': 0.53403078393049486, 'model': 'LogReg', 'f1-score': 0.44173886895974129, 'precision': 0.44770262853650961, 'accuracy': 53.1}\n",
      "**********************\n"
     ]
    },
    {
     "name": "stderr",
     "output_type": "stream",
     "text": [
      "/Users/giannibarlacchi/miniconda2/lib/python2.7/site-packages/sklearn/utils/validation.py:526: DataConversionWarning: A column-vector y was passed when a 1d array was expected. Please change the shape of y to (n_samples, ), for example using ravel().\n",
      "  y = column_or_1d(y, warn=True)\n"
     ]
    }
   ],
   "source": [
    "#Logistic Regression\n",
    "print \"****** Logistic Regression ******\"\n",
    "df = {}\n",
    "clf = LogisticRegression()\n",
    "clf.fit(df_X_train.as_matrix(), df_y_train.values)\n",
    "y_pred = clf.predict(df_X_test.as_matrix())\n",
    "df['model'] = 'LogReg'\n",
    "df['f1-score'] = metrics.f1_score(df_y_test.values, y_pred,average='macro') #metrics.accuracy_score(df_y_test.values, y_pred)\n",
    "df['accuracy'] =  round(metrics.accuracy_score(df_y_test.values, y_pred),3) * 100\n",
    "df['precision'] = metrics.recall_score(df_y_test.values, y_pred,average='macro')\n",
    "df['recall'] = metrics.precision_score(df_y_test.values, y_pred,average='macro')\n",
    "dfs.append(df)\n",
    "\n",
    "print df\n",
    "print \"**********************\""
   ]
  },
  {
   "cell_type": "code",
   "execution_count": 36,
   "metadata": {
    "collapsed": false
   },
   "outputs": [],
   "source": [
    "results = pd.DataFrame(dfs)\n",
    "results = results[['model','accuracy','f1-score','precision','recall']]"
   ]
  },
  {
   "cell_type": "code",
   "execution_count": 37,
   "metadata": {
    "collapsed": false
   },
   "outputs": [
    {
     "data": {
      "text/html": [
       "<div>\n",
       "<table border=\"1\" class=\"dataframe\">\n",
       "  <thead>\n",
       "    <tr style=\"text-align: right;\">\n",
       "      <th></th>\n",
       "      <th>model</th>\n",
       "      <th>accuracy</th>\n",
       "      <th>f1-score</th>\n",
       "      <th>precision</th>\n",
       "      <th>recall</th>\n",
       "    </tr>\n",
       "  </thead>\n",
       "  <tbody>\n",
       "    <tr>\n",
       "      <th>0</th>\n",
       "      <td>baseline</td>\n",
       "      <td>31.8</td>\n",
       "      <td>0.080515</td>\n",
       "      <td>0.166667</td>\n",
       "      <td>0.053079</td>\n",
       "    </tr>\n",
       "    <tr>\n",
       "      <th>1</th>\n",
       "      <td>xgBoost</td>\n",
       "      <td>59.2</td>\n",
       "      <td>NaN</td>\n",
       "      <td>0.513167</td>\n",
       "      <td>0.598463</td>\n",
       "    </tr>\n",
       "    <tr>\n",
       "      <th>2</th>\n",
       "      <td>LogReg</td>\n",
       "      <td>53.1</td>\n",
       "      <td>0.441739</td>\n",
       "      <td>0.447703</td>\n",
       "      <td>0.534031</td>\n",
       "    </tr>\n",
       "  </tbody>\n",
       "</table>\n",
       "</div>"
      ],
      "text/plain": [
       "      model  accuracy  f1-score  precision    recall\n",
       "0  baseline      31.8  0.080515   0.166667  0.053079\n",
       "1   xgBoost      59.2       NaN   0.513167  0.598463\n",
       "2    LogReg      53.1  0.441739   0.447703  0.534031"
      ]
     },
     "execution_count": 37,
     "metadata": {},
     "output_type": "execute_result"
    }
   ],
   "source": [
    "results"
   ]
  },
  {
   "cell_type": "code",
   "execution_count": null,
   "metadata": {
    "collapsed": true
   },
   "outputs": [],
   "source": []
  }
 ],
 "metadata": {
  "kernelspec": {
   "display_name": "Python 2",
   "language": "python",
   "name": "python2"
  },
  "language_info": {
   "codemirror_mode": {
    "name": "ipython",
    "version": 2
   },
   "file_extension": ".py",
   "mimetype": "text/x-python",
   "name": "python",
   "nbconvert_exporter": "python",
   "pygments_lexer": "ipython2",
   "version": "2.7.12"
  }
 },
 "nbformat": 4,
 "nbformat_minor": 1
}
